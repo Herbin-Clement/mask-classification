{
 "cells": [
  {
   "cell_type": "code",
   "execution_count": 2,
   "id": "ce8194e8",
   "metadata": {},
   "outputs": [],
   "source": [
    "import numpy as np\n",
    "import matplotlib.pyplot as plt\n",
    "import pandas as pd"
   ]
  },
  {
   "cell_type": "code",
   "execution_count": 5,
   "id": "e76fcb6d",
   "metadata": {},
   "outputs": [
    {
     "name": "stdout",
     "output_type": "stream",
     "text": [
      "data.ipynb  df.csv  README.md\r\n"
     ]
    }
   ],
   "source": [
    "!ls"
   ]
  },
  {
   "cell_type": "code",
   "execution_count": 6,
   "id": "42bd1003",
   "metadata": {},
   "outputs": [],
   "source": [
    "pathname_csv = \"df.csv\""
   ]
  },
  {
   "cell_type": "code",
   "execution_count": 9,
   "id": "3255a140",
   "metadata": {},
   "outputs": [
    {
     "data": {
      "text/html": [
       "<div>\n",
       "<style scoped>\n",
       "    .dataframe tbody tr th:only-of-type {\n",
       "        vertical-align: middle;\n",
       "    }\n",
       "\n",
       "    .dataframe tbody tr th {\n",
       "        vertical-align: top;\n",
       "    }\n",
       "\n",
       "    .dataframe thead th {\n",
       "        text-align: right;\n",
       "    }\n",
       "</style>\n",
       "<table border=\"1\" class=\"dataframe\">\n",
       "  <thead>\n",
       "    <tr style=\"text-align: right;\">\n",
       "      <th></th>\n",
       "      <th>ID</th>\n",
       "      <th>TYPE</th>\n",
       "      <th>USER_ID</th>\n",
       "      <th>GENDER</th>\n",
       "      <th>AGE</th>\n",
       "      <th>name</th>\n",
       "      <th>size_mb</th>\n",
       "    </tr>\n",
       "  </thead>\n",
       "  <tbody>\n",
       "    <tr>\n",
       "      <th>0</th>\n",
       "      <td>1</td>\n",
       "      <td>1</td>\n",
       "      <td>1</td>\n",
       "      <td>MALE</td>\n",
       "      <td>25</td>\n",
       "      <td>000001_1_000001_MALE_25.jpg</td>\n",
       "      <td>1.801298</td>\n",
       "    </tr>\n",
       "    <tr>\n",
       "      <th>1</th>\n",
       "      <td>1</td>\n",
       "      <td>2</td>\n",
       "      <td>1</td>\n",
       "      <td>MALE</td>\n",
       "      <td>25</td>\n",
       "      <td>000001_2_000001_MALE_25.jpg</td>\n",
       "      <td>1.738558</td>\n",
       "    </tr>\n",
       "    <tr>\n",
       "      <th>2</th>\n",
       "      <td>1</td>\n",
       "      <td>3</td>\n",
       "      <td>1</td>\n",
       "      <td>MALE</td>\n",
       "      <td>25</td>\n",
       "      <td>000001_3_000001_MALE_25.jpg</td>\n",
       "      <td>1.799667</td>\n",
       "    </tr>\n",
       "    <tr>\n",
       "      <th>3</th>\n",
       "      <td>1</td>\n",
       "      <td>4</td>\n",
       "      <td>1</td>\n",
       "      <td>MALE</td>\n",
       "      <td>25</td>\n",
       "      <td>000001_4_000001_MALE_25.jpg</td>\n",
       "      <td>1.740264</td>\n",
       "    </tr>\n",
       "    <tr>\n",
       "      <th>4</th>\n",
       "      <td>2</td>\n",
       "      <td>1</td>\n",
       "      <td>2</td>\n",
       "      <td>MALE</td>\n",
       "      <td>23</td>\n",
       "      <td>000002_1_000002_MALE_23.jpg</td>\n",
       "      <td>1.549695</td>\n",
       "    </tr>\n",
       "    <tr>\n",
       "      <th>...</th>\n",
       "      <td>...</td>\n",
       "      <td>...</td>\n",
       "      <td>...</td>\n",
       "      <td>...</td>\n",
       "      <td>...</td>\n",
       "      <td>...</td>\n",
       "      <td>...</td>\n",
       "    </tr>\n",
       "    <tr>\n",
       "      <th>39995</th>\n",
       "      <td>9999</td>\n",
       "      <td>4</td>\n",
       "      <td>6507</td>\n",
       "      <td>NONE</td>\n",
       "      <td>19</td>\n",
       "      <td>009999_4_006507_NONE_19.jpg</td>\n",
       "      <td>1.974365</td>\n",
       "    </tr>\n",
       "    <tr>\n",
       "      <th>39996</th>\n",
       "      <td>10000</td>\n",
       "      <td>1</td>\n",
       "      <td>6508</td>\n",
       "      <td>NONE</td>\n",
       "      <td>19</td>\n",
       "      <td>010000_1_006508_NONE_19.jpg</td>\n",
       "      <td>3.838262</td>\n",
       "    </tr>\n",
       "    <tr>\n",
       "      <th>39997</th>\n",
       "      <td>10000</td>\n",
       "      <td>2</td>\n",
       "      <td>6508</td>\n",
       "      <td>NONE</td>\n",
       "      <td>19</td>\n",
       "      <td>010000_2_006508_NONE_19.jpg</td>\n",
       "      <td>3.637379</td>\n",
       "    </tr>\n",
       "    <tr>\n",
       "      <th>39998</th>\n",
       "      <td>10000</td>\n",
       "      <td>3</td>\n",
       "      <td>6508</td>\n",
       "      <td>NONE</td>\n",
       "      <td>19</td>\n",
       "      <td>010000_3_006508_NONE_19.jpg</td>\n",
       "      <td>4.067894</td>\n",
       "    </tr>\n",
       "    <tr>\n",
       "      <th>39999</th>\n",
       "      <td>10000</td>\n",
       "      <td>4</td>\n",
       "      <td>6508</td>\n",
       "      <td>NONE</td>\n",
       "      <td>19</td>\n",
       "      <td>010000_4_006508_NONE_19.jpg</td>\n",
       "      <td>4.275234</td>\n",
       "    </tr>\n",
       "  </tbody>\n",
       "</table>\n",
       "<p>40000 rows × 7 columns</p>\n",
       "</div>"
      ],
      "text/plain": [
       "          ID  TYPE  USER_ID GENDER  AGE                         name   size_mb\n",
       "0          1     1        1   MALE   25  000001_1_000001_MALE_25.jpg  1.801298\n",
       "1          1     2        1   MALE   25  000001_2_000001_MALE_25.jpg  1.738558\n",
       "2          1     3        1   MALE   25  000001_3_000001_MALE_25.jpg  1.799667\n",
       "3          1     4        1   MALE   25  000001_4_000001_MALE_25.jpg  1.740264\n",
       "4          2     1        2   MALE   23  000002_1_000002_MALE_23.jpg  1.549695\n",
       "...      ...   ...      ...    ...  ...                          ...       ...\n",
       "39995   9999     4     6507   NONE   19  009999_4_006507_NONE_19.jpg  1.974365\n",
       "39996  10000     1     6508   NONE   19  010000_1_006508_NONE_19.jpg  3.838262\n",
       "39997  10000     2     6508   NONE   19  010000_2_006508_NONE_19.jpg  3.637379\n",
       "39998  10000     3     6508   NONE   19  010000_3_006508_NONE_19.jpg  4.067894\n",
       "39999  10000     4     6508   NONE   19  010000_4_006508_NONE_19.jpg  4.275234\n",
       "\n",
       "[40000 rows x 7 columns]"
      ]
     },
     "execution_count": 9,
     "metadata": {},
     "output_type": "execute_result"
    }
   ],
   "source": [
    "data = pd.read_csv(pathname_csv)\n",
    "data"
   ]
  },
  {
   "cell_type": "code",
   "execution_count": 24,
   "id": "24b0685d",
   "metadata": {},
   "outputs": [],
   "source": [
    "user_id = data[\"USER_ID\"]"
   ]
  },
  {
   "cell_type": "code",
   "execution_count": 23,
   "id": "ed83e69e",
   "metadata": {},
   "outputs": [
    {
     "data": {
      "text/plain": [
       "<matplotlib.axes._subplots.AxesSubplot at 0x7f47fc1d0910>"
      ]
     },
     "execution_count": 23,
     "metadata": {},
     "output_type": "execute_result"
    },
    {
     "data": {
      "image/png": "[encoded data removed]",
      "text/plain": [
       "<Figure size 432x288 with 1 Axes>"
      ]
     },
     "metadata": {
      "needs_background": "light"
     },
     "output_type": "display_data"
    }
   ],
   "source": [
    "user_id.hist()"
   ]
  },
  {
   "cell_type": "code",
   "execution_count": 26,
   "id": "91d28ce8",
   "metadata": {},
   "outputs": [
    {
     "data": {
      "text/plain": [
       "0           1\n",
       "1           1\n",
       "2           1\n",
       "3           1\n",
       "4           2\n",
       "         ... \n",
       "39995    6507\n",
       "39996    6508\n",
       "39997    6508\n",
       "39998    6508\n",
       "39999    6508\n",
       "Name: USER_ID, Length: 40000, dtype: int64"
      ]
     },
     "execution_count": 26,
     "metadata": {},
     "output_type": "execute_result"
    }
   ],
   "source": [
    "user_id"
   ]
  },
  {
   "cell_type": "code",
   "execution_count": 30,
   "id": "79e4edec",
   "metadata": {},
   "outputs": [
    {
     "data": {
      "text/plain": [
       "617     32\n",
       "330     32\n",
       "215     32\n",
       "2058    32\n",
       "6       32\n",
       "        ..\n",
       "2574     4\n",
       "2573     4\n",
       "2572     4\n",
       "2571     4\n",
       "6508     4\n",
       "Name: USER_ID, Length: 6508, dtype: int64"
      ]
     },
     "execution_count": 30,
     "metadata": {},
     "output_type": "execute_result"
    }
   ],
   "source": [
    "user_id.value_counts()"
   ]
  },
  {
   "cell_type": "code",
   "execution_count": 32,
   "id": "487cf3ee",
   "metadata": {},
   "outputs": [
    {
     "data": {
      "text/html": [
       "<div>\n",
       "<style scoped>\n",
       "    .dataframe tbody tr th:only-of-type {\n",
       "        vertical-align: middle;\n",
       "    }\n",
       "\n",
       "    .dataframe tbody tr th {\n",
       "        vertical-align: top;\n",
       "    }\n",
       "\n",
       "    .dataframe thead th {\n",
       "        text-align: right;\n",
       "    }\n",
       "</style>\n",
       "<table border=\"1\" class=\"dataframe\">\n",
       "  <thead>\n",
       "    <tr style=\"text-align: right;\">\n",
       "      <th></th>\n",
       "      <th>1</th>\n",
       "      <th>2</th>\n",
       "      <th>3</th>\n",
       "      <th>4</th>\n",
       "    </tr>\n",
       "  </thead>\n",
       "  <tbody>\n",
       "    <tr>\n",
       "      <th>0</th>\n",
       "      <td>1</td>\n",
       "      <td>0</td>\n",
       "      <td>0</td>\n",
       "      <td>0</td>\n",
       "    </tr>\n",
       "    <tr>\n",
       "      <th>1</th>\n",
       "      <td>0</td>\n",
       "      <td>1</td>\n",
       "      <td>0</td>\n",
       "      <td>0</td>\n",
       "    </tr>\n",
       "    <tr>\n",
       "      <th>2</th>\n",
       "      <td>0</td>\n",
       "      <td>0</td>\n",
       "      <td>1</td>\n",
       "      <td>0</td>\n",
       "    </tr>\n",
       "    <tr>\n",
       "      <th>3</th>\n",
       "      <td>0</td>\n",
       "      <td>0</td>\n",
       "      <td>0</td>\n",
       "      <td>1</td>\n",
       "    </tr>\n",
       "    <tr>\n",
       "      <th>4</th>\n",
       "      <td>1</td>\n",
       "      <td>0</td>\n",
       "      <td>0</td>\n",
       "      <td>0</td>\n",
       "    </tr>\n",
       "    <tr>\n",
       "      <th>...</th>\n",
       "      <td>...</td>\n",
       "      <td>...</td>\n",
       "      <td>...</td>\n",
       "      <td>...</td>\n",
       "    </tr>\n",
       "    <tr>\n",
       "      <th>39995</th>\n",
       "      <td>0</td>\n",
       "      <td>0</td>\n",
       "      <td>0</td>\n",
       "      <td>1</td>\n",
       "    </tr>\n",
       "    <tr>\n",
       "      <th>39996</th>\n",
       "      <td>1</td>\n",
       "      <td>0</td>\n",
       "      <td>0</td>\n",
       "      <td>0</td>\n",
       "    </tr>\n",
       "    <tr>\n",
       "      <th>39997</th>\n",
       "      <td>0</td>\n",
       "      <td>1</td>\n",
       "      <td>0</td>\n",
       "      <td>0</td>\n",
       "    </tr>\n",
       "    <tr>\n",
       "      <th>39998</th>\n",
       "      <td>0</td>\n",
       "      <td>0</td>\n",
       "      <td>1</td>\n",
       "      <td>0</td>\n",
       "    </tr>\n",
       "    <tr>\n",
       "      <th>39999</th>\n",
       "      <td>0</td>\n",
       "      <td>0</td>\n",
       "      <td>0</td>\n",
       "      <td>1</td>\n",
       "    </tr>\n",
       "  </tbody>\n",
       "</table>\n",
       "<p>40000 rows × 4 columns</p>\n",
       "</div>"
      ],
      "text/plain": [
       "       1  2  3  4\n",
       "0      1  0  0  0\n",
       "1      0  1  0  0\n",
       "2      0  0  1  0\n",
       "3      0  0  0  1\n",
       "4      1  0  0  0\n",
       "...   .. .. .. ..\n",
       "39995  0  0  0  1\n",
       "39996  1  0  0  0\n",
       "39997  0  1  0  0\n",
       "39998  0  0  1  0\n",
       "39999  0  0  0  1\n",
       "\n",
       "[40000 rows x 4 columns]"
      ]
     },
     "execution_count": 32,
     "metadata": {},
     "output_type": "execute_result"
    }
   ],
   "source": [
    "pd.get_dummies(data[\"TYPE\"])"
   ]
  },
  {
   "cell_type": "code",
   "execution_count": null,
   "id": "61252d32",
   "metadata": {},
   "outputs": [],
   "source": []
  }
 ],
 "metadata": {
  "kernelspec": {
   "display_name": "Python 3 (ipykernel)",
   "language": "python",
   "name": "python3"
  },
  "language_info": {
   "codemirror_mode": {
    "name": "ipython",
    "version": 3
   },
   "file_extension": ".py",
   "mimetype": "text/x-python",
   "name": "python",
   "nbconvert_exporter": "python",
   "pygments_lexer": "ipython3",
   "version": "3.8.10"
  }
 },
 "nbformat": 4,
 "nbformat_minor": 5
}
